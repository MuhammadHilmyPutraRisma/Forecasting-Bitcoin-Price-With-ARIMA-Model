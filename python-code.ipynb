{
  "cells": [
    {
      "cell_type": "markdown",
      "source": [
        "## Library Preparation"
      ],
      "metadata": {
        "id": "rOWbVuz-P4Wn"
      }
    },
    {
      "cell_type": "code",
      "execution_count": 1,
      "metadata": {
        "id": "B60f6RdQiSdb"
      },
      "outputs": [],
      "source": [
        "from google.colab import files\n",
        "import numpy as np\n",
        "import pandas as pd\n",
        "import matplotlib.pyplot as plt\n",
        "from statsmodels.graphics.tsaplots import plot_acf\n",
        "from statsmodels.graphics.tsaplots import plot_pacf\n",
        "from statsmodels.tsa.stattools import adfuller\n",
        "from statsmodels.tsa.arima.model import ARIMA\n",
        "from statsmodels.stats.diagnostic import acorr_ljungbox\n",
        "from sklearn.metrics import mean_squared_error\n",
        "import statsmodels.api as sm\n",
        "import warnings"
      ]
    },
    {
      "cell_type": "markdown",
      "source": [
        "## Data Preparation"
      ],
      "metadata": {
        "id": "mR14sTJ8QRy2"
      }
    },
    {
      "cell_type": "code",
      "execution_count": 2,
      "metadata": {
        "colab": {
          "base_uri": "https://localhost:8080/",
          "height": 73
        },
        "id": "Ly0CoAhopM4i",
        "outputId": "1783e6b3-1aca-411c-f1a4-bc3881cf0bcb"
      },
      "outputs": [
        {
          "output_type": "display_data",
          "data": {
            "text/plain": [
              "<IPython.core.display.HTML object>"
            ],
            "text/html": [
              "\n",
              "     <input type=\"file\" id=\"files-a6c2f114-947f-46b9-b39f-901312248512\" name=\"files[]\" multiple disabled\n",
              "        style=\"border:none\" />\n",
              "     <output id=\"result-a6c2f114-947f-46b9-b39f-901312248512\">\n",
              "      Upload widget is only available when the cell has been executed in the\n",
              "      current browser session. Please rerun this cell to enable.\n",
              "      </output>\n",
              "      <script>// Copyright 2017 Google LLC\n",
              "//\n",
              "// Licensed under the Apache License, Version 2.0 (the \"License\");\n",
              "// you may not use this file except in compliance with the License.\n",
              "// You may obtain a copy of the License at\n",
              "//\n",
              "//      http://www.apache.org/licenses/LICENSE-2.0\n",
              "//\n",
              "// Unless required by applicable law or agreed to in writing, software\n",
              "// distributed under the License is distributed on an \"AS IS\" BASIS,\n",
              "// WITHOUT WARRANTIES OR CONDITIONS OF ANY KIND, either express or implied.\n",
              "// See the License for the specific language governing permissions and\n",
              "// limitations under the License.\n",
              "\n",
              "/**\n",
              " * @fileoverview Helpers for google.colab Python module.\n",
              " */\n",
              "(function(scope) {\n",
              "function span(text, styleAttributes = {}) {\n",
              "  const element = document.createElement('span');\n",
              "  element.textContent = text;\n",
              "  for (const key of Object.keys(styleAttributes)) {\n",
              "    element.style[key] = styleAttributes[key];\n",
              "  }\n",
              "  return element;\n",
              "}\n",
              "\n",
              "// Max number of bytes which will be uploaded at a time.\n",
              "const MAX_PAYLOAD_SIZE = 100 * 1024;\n",
              "\n",
              "function _uploadFiles(inputId, outputId) {\n",
              "  const steps = uploadFilesStep(inputId, outputId);\n",
              "  const outputElement = document.getElementById(outputId);\n",
              "  // Cache steps on the outputElement to make it available for the next call\n",
              "  // to uploadFilesContinue from Python.\n",
              "  outputElement.steps = steps;\n",
              "\n",
              "  return _uploadFilesContinue(outputId);\n",
              "}\n",
              "\n",
              "// This is roughly an async generator (not supported in the browser yet),\n",
              "// where there are multiple asynchronous steps and the Python side is going\n",
              "// to poll for completion of each step.\n",
              "// This uses a Promise to block the python side on completion of each step,\n",
              "// then passes the result of the previous step as the input to the next step.\n",
              "function _uploadFilesContinue(outputId) {\n",
              "  const outputElement = document.getElementById(outputId);\n",
              "  const steps = outputElement.steps;\n",
              "\n",
              "  const next = steps.next(outputElement.lastPromiseValue);\n",
              "  return Promise.resolve(next.value.promise).then((value) => {\n",
              "    // Cache the last promise value to make it available to the next\n",
              "    // step of the generator.\n",
              "    outputElement.lastPromiseValue = value;\n",
              "    return next.value.response;\n",
              "  });\n",
              "}\n",
              "\n",
              "/**\n",
              " * Generator function which is called between each async step of the upload\n",
              " * process.\n",
              " * @param {string} inputId Element ID of the input file picker element.\n",
              " * @param {string} outputId Element ID of the output display.\n",
              " * @return {!Iterable<!Object>} Iterable of next steps.\n",
              " */\n",
              "function* uploadFilesStep(inputId, outputId) {\n",
              "  const inputElement = document.getElementById(inputId);\n",
              "  inputElement.disabled = false;\n",
              "\n",
              "  const outputElement = document.getElementById(outputId);\n",
              "  outputElement.innerHTML = '';\n",
              "\n",
              "  const pickedPromise = new Promise((resolve) => {\n",
              "    inputElement.addEventListener('change', (e) => {\n",
              "      resolve(e.target.files);\n",
              "    });\n",
              "  });\n",
              "\n",
              "  const cancel = document.createElement('button');\n",
              "  inputElement.parentElement.appendChild(cancel);\n",
              "  cancel.textContent = 'Cancel upload';\n",
              "  const cancelPromise = new Promise((resolve) => {\n",
              "    cancel.onclick = () => {\n",
              "      resolve(null);\n",
              "    };\n",
              "  });\n",
              "\n",
              "  // Wait for the user to pick the files.\n",
              "  const files = yield {\n",
              "    promise: Promise.race([pickedPromise, cancelPromise]),\n",
              "    response: {\n",
              "      action: 'starting',\n",
              "    }\n",
              "  };\n",
              "\n",
              "  cancel.remove();\n",
              "\n",
              "  // Disable the input element since further picks are not allowed.\n",
              "  inputElement.disabled = true;\n",
              "\n",
              "  if (!files) {\n",
              "    return {\n",
              "      response: {\n",
              "        action: 'complete',\n",
              "      }\n",
              "    };\n",
              "  }\n",
              "\n",
              "  for (const file of files) {\n",
              "    const li = document.createElement('li');\n",
              "    li.append(span(file.name, {fontWeight: 'bold'}));\n",
              "    li.append(span(\n",
              "        `(${file.type || 'n/a'}) - ${file.size} bytes, ` +\n",
              "        `last modified: ${\n",
              "            file.lastModifiedDate ? file.lastModifiedDate.toLocaleDateString() :\n",
              "                                    'n/a'} - `));\n",
              "    const percent = span('0% done');\n",
              "    li.appendChild(percent);\n",
              "\n",
              "    outputElement.appendChild(li);\n",
              "\n",
              "    const fileDataPromise = new Promise((resolve) => {\n",
              "      const reader = new FileReader();\n",
              "      reader.onload = (e) => {\n",
              "        resolve(e.target.result);\n",
              "      };\n",
              "      reader.readAsArrayBuffer(file);\n",
              "    });\n",
              "    // Wait for the data to be ready.\n",
              "    let fileData = yield {\n",
              "      promise: fileDataPromise,\n",
              "      response: {\n",
              "        action: 'continue',\n",
              "      }\n",
              "    };\n",
              "\n",
              "    // Use a chunked sending to avoid message size limits. See b/62115660.\n",
              "    let position = 0;\n",
              "    do {\n",
              "      const length = Math.min(fileData.byteLength - position, MAX_PAYLOAD_SIZE);\n",
              "      const chunk = new Uint8Array(fileData, position, length);\n",
              "      position += length;\n",
              "\n",
              "      const base64 = btoa(String.fromCharCode.apply(null, chunk));\n",
              "      yield {\n",
              "        response: {\n",
              "          action: 'append',\n",
              "          file: file.name,\n",
              "          data: base64,\n",
              "        },\n",
              "      };\n",
              "\n",
              "      let percentDone = fileData.byteLength === 0 ?\n",
              "          100 :\n",
              "          Math.round((position / fileData.byteLength) * 100);\n",
              "      percent.textContent = `${percentDone}% done`;\n",
              "\n",
              "    } while (position < fileData.byteLength);\n",
              "  }\n",
              "\n",
              "  // All done.\n",
              "  yield {\n",
              "    response: {\n",
              "      action: 'complete',\n",
              "    }\n",
              "  };\n",
              "}\n",
              "\n",
              "scope.google = scope.google || {};\n",
              "scope.google.colab = scope.google.colab || {};\n",
              "scope.google.colab._files = {\n",
              "  _uploadFiles,\n",
              "  _uploadFilesContinue,\n",
              "};\n",
              "})(self);\n",
              "</script> "
            ]
          },
          "metadata": {}
        },
        {
          "output_type": "stream",
          "name": "stdout",
          "text": [
            "Saving btc.csv to btc.csv\n"
          ]
        }
      ],
      "source": [
        "#Upload Data\n",
        "upload = files.upload()"
      ]
    },
    {
      "cell_type": "code",
      "execution_count": 4,
      "metadata": {
        "colab": {
          "base_uri": "https://localhost:8080/",
          "height": 423
        },
        "id": "gYxrJgu4pQOu",
        "outputId": "6bc11699-ada2-484c-ef85-418d8dd2b556"
      },
      "outputs": [
        {
          "output_type": "execute_result",
          "data": {
            "text/plain": [
              "            Date          Open          High           Low         Close  \\\n",
              "0     2014-09-17    465.864014    468.174011    452.421997    457.334015   \n",
              "1     2014-09-18    456.859985    456.859985    413.104004    424.440002   \n",
              "2     2014-09-19    424.102997    427.834991    384.532013    394.795990   \n",
              "3     2014-09-20    394.673004    423.295990    389.882996    408.903992   \n",
              "4     2014-09-21    408.084991    412.425995    393.181000    398.821014   \n",
              "...          ...           ...           ...           ...           ...   \n",
              "2909  2022-09-04  19832.470703  19999.689453  19636.816406  19986.712891   \n",
              "2910  2022-09-05  19988.789062  20031.160156  19673.046875  19812.371094   \n",
              "2911  2022-09-06  19817.724609  20155.269531  18800.171875  18837.667969   \n",
              "2912  2022-09-07  18837.683594  19427.171875  18644.466797  19290.324219   \n",
              "2913  2022-09-08  19309.482422  19410.619141  19089.548828  19337.371094   \n",
              "\n",
              "           Volume  Dividends  Stock Splits  \n",
              "0        21056800          0             0  \n",
              "1        34483200          0             0  \n",
              "2        37919700          0             0  \n",
              "3        36863600          0             0  \n",
              "4        26580100          0             0  \n",
              "...           ...        ...           ...  \n",
              "2909  25245861652          0             0  \n",
              "2910  28813460025          0             0  \n",
              "2911  43403978910          0             0  \n",
              "2912  35239757134          0             0  \n",
              "2913  33201930240          0             0  \n",
              "\n",
              "[2914 rows x 8 columns]"
            ],
            "text/html": [
              "\n",
              "  <div id=\"df-42eb45fb-3e0d-4375-bb2f-157c5ce4b93a\" class=\"colab-df-container\">\n",
              "    <div>\n",
              "<style scoped>\n",
              "    .dataframe tbody tr th:only-of-type {\n",
              "        vertical-align: middle;\n",
              "    }\n",
              "\n",
              "    .dataframe tbody tr th {\n",
              "        vertical-align: top;\n",
              "    }\n",
              "\n",
              "    .dataframe thead th {\n",
              "        text-align: right;\n",
              "    }\n",
              "</style>\n",
              "<table border=\"1\" class=\"dataframe\">\n",
              "  <thead>\n",
              "    <tr style=\"text-align: right;\">\n",
              "      <th></th>\n",
              "      <th>Date</th>\n",
              "      <th>Open</th>\n",
              "      <th>High</th>\n",
              "      <th>Low</th>\n",
              "      <th>Close</th>\n",
              "      <th>Volume</th>\n",
              "      <th>Dividends</th>\n",
              "      <th>Stock Splits</th>\n",
              "    </tr>\n",
              "  </thead>\n",
              "  <tbody>\n",
              "    <tr>\n",
              "      <th>0</th>\n",
              "      <td>2014-09-17</td>\n",
              "      <td>465.864014</td>\n",
              "      <td>468.174011</td>\n",
              "      <td>452.421997</td>\n",
              "      <td>457.334015</td>\n",
              "      <td>21056800</td>\n",
              "      <td>0</td>\n",
              "      <td>0</td>\n",
              "    </tr>\n",
              "    <tr>\n",
              "      <th>1</th>\n",
              "      <td>2014-09-18</td>\n",
              "      <td>456.859985</td>\n",
              "      <td>456.859985</td>\n",
              "      <td>413.104004</td>\n",
              "      <td>424.440002</td>\n",
              "      <td>34483200</td>\n",
              "      <td>0</td>\n",
              "      <td>0</td>\n",
              "    </tr>\n",
              "    <tr>\n",
              "      <th>2</th>\n",
              "      <td>2014-09-19</td>\n",
              "      <td>424.102997</td>\n",
              "      <td>427.834991</td>\n",
              "      <td>384.532013</td>\n",
              "      <td>394.795990</td>\n",
              "      <td>37919700</td>\n",
              "      <td>0</td>\n",
              "      <td>0</td>\n",
              "    </tr>\n",
              "    <tr>\n",
              "      <th>3</th>\n",
              "      <td>2014-09-20</td>\n",
              "      <td>394.673004</td>\n",
              "      <td>423.295990</td>\n",
              "      <td>389.882996</td>\n",
              "      <td>408.903992</td>\n",
              "      <td>36863600</td>\n",
              "      <td>0</td>\n",
              "      <td>0</td>\n",
              "    </tr>\n",
              "    <tr>\n",
              "      <th>4</th>\n",
              "      <td>2014-09-21</td>\n",
              "      <td>408.084991</td>\n",
              "      <td>412.425995</td>\n",
              "      <td>393.181000</td>\n",
              "      <td>398.821014</td>\n",
              "      <td>26580100</td>\n",
              "      <td>0</td>\n",
              "      <td>0</td>\n",
              "    </tr>\n",
              "    <tr>\n",
              "      <th>...</th>\n",
              "      <td>...</td>\n",
              "      <td>...</td>\n",
              "      <td>...</td>\n",
              "      <td>...</td>\n",
              "      <td>...</td>\n",
              "      <td>...</td>\n",
              "      <td>...</td>\n",
              "      <td>...</td>\n",
              "    </tr>\n",
              "    <tr>\n",
              "      <th>2909</th>\n",
              "      <td>2022-09-04</td>\n",
              "      <td>19832.470703</td>\n",
              "      <td>19999.689453</td>\n",
              "      <td>19636.816406</td>\n",
              "      <td>19986.712891</td>\n",
              "      <td>25245861652</td>\n",
              "      <td>0</td>\n",
              "      <td>0</td>\n",
              "    </tr>\n",
              "    <tr>\n",
              "      <th>2910</th>\n",
              "      <td>2022-09-05</td>\n",
              "      <td>19988.789062</td>\n",
              "      <td>20031.160156</td>\n",
              "      <td>19673.046875</td>\n",
              "      <td>19812.371094</td>\n",
              "      <td>28813460025</td>\n",
              "      <td>0</td>\n",
              "      <td>0</td>\n",
              "    </tr>\n",
              "    <tr>\n",
              "      <th>2911</th>\n",
              "      <td>2022-09-06</td>\n",
              "      <td>19817.724609</td>\n",
              "      <td>20155.269531</td>\n",
              "      <td>18800.171875</td>\n",
              "      <td>18837.667969</td>\n",
              "      <td>43403978910</td>\n",
              "      <td>0</td>\n",
              "      <td>0</td>\n",
              "    </tr>\n",
              "    <tr>\n",
              "      <th>2912</th>\n",
              "      <td>2022-09-07</td>\n",
              "      <td>18837.683594</td>\n",
              "      <td>19427.171875</td>\n",
              "      <td>18644.466797</td>\n",
              "      <td>19290.324219</td>\n",
              "      <td>35239757134</td>\n",
              "      <td>0</td>\n",
              "      <td>0</td>\n",
              "    </tr>\n",
              "    <tr>\n",
              "      <th>2913</th>\n",
              "      <td>2022-09-08</td>\n",
              "      <td>19309.482422</td>\n",
              "      <td>19410.619141</td>\n",
              "      <td>19089.548828</td>\n",
              "      <td>19337.371094</td>\n",
              "      <td>33201930240</td>\n",
              "      <td>0</td>\n",
              "      <td>0</td>\n",
              "    </tr>\n",
              "  </tbody>\n",
              "</table>\n",
              "<p>2914 rows × 8 columns</p>\n",
              "</div>\n",
              "    <div class=\"colab-df-buttons\">\n",
              "\n",
              "  <div class=\"colab-df-container\">\n",
              "    <button class=\"colab-df-convert\" onclick=\"convertToInteractive('df-42eb45fb-3e0d-4375-bb2f-157c5ce4b93a')\"\n",
              "            title=\"Convert this dataframe to an interactive table.\"\n",
              "            style=\"display:none;\">\n",
              "\n",
              "  <svg xmlns=\"http://www.w3.org/2000/svg\" height=\"24px\" viewBox=\"0 -960 960 960\">\n",
              "    <path d=\"M120-120v-720h720v720H120Zm60-500h600v-160H180v160Zm220 220h160v-160H400v160Zm0 220h160v-160H400v160ZM180-400h160v-160H180v160Zm440 0h160v-160H620v160ZM180-180h160v-160H180v160Zm440 0h160v-160H620v160Z\"/>\n",
              "  </svg>\n",
              "    </button>\n",
              "\n",
              "  <style>\n",
              "    .colab-df-container {\n",
              "      display:flex;\n",
              "      gap: 12px;\n",
              "    }\n",
              "\n",
              "    .colab-df-convert {\n",
              "      background-color: #E8F0FE;\n",
              "      border: none;\n",
              "      border-radius: 50%;\n",
              "      cursor: pointer;\n",
              "      display: none;\n",
              "      fill: #1967D2;\n",
              "      height: 32px;\n",
              "      padding: 0 0 0 0;\n",
              "      width: 32px;\n",
              "    }\n",
              "\n",
              "    .colab-df-convert:hover {\n",
              "      background-color: #E2EBFA;\n",
              "      box-shadow: 0px 1px 2px rgba(60, 64, 67, 0.3), 0px 1px 3px 1px rgba(60, 64, 67, 0.15);\n",
              "      fill: #174EA6;\n",
              "    }\n",
              "\n",
              "    .colab-df-buttons div {\n",
              "      margin-bottom: 4px;\n",
              "    }\n",
              "\n",
              "    [theme=dark] .colab-df-convert {\n",
              "      background-color: #3B4455;\n",
              "      fill: #D2E3FC;\n",
              "    }\n",
              "\n",
              "    [theme=dark] .colab-df-convert:hover {\n",
              "      background-color: #434B5C;\n",
              "      box-shadow: 0px 1px 3px 1px rgba(0, 0, 0, 0.15);\n",
              "      filter: drop-shadow(0px 1px 2px rgba(0, 0, 0, 0.3));\n",
              "      fill: #FFFFFF;\n",
              "    }\n",
              "  </style>\n",
              "\n",
              "    <script>\n",
              "      const buttonEl =\n",
              "        document.querySelector('#df-42eb45fb-3e0d-4375-bb2f-157c5ce4b93a button.colab-df-convert');\n",
              "      buttonEl.style.display =\n",
              "        google.colab.kernel.accessAllowed ? 'block' : 'none';\n",
              "\n",
              "      async function convertToInteractive(key) {\n",
              "        const element = document.querySelector('#df-42eb45fb-3e0d-4375-bb2f-157c5ce4b93a');\n",
              "        const dataTable =\n",
              "          await google.colab.kernel.invokeFunction('convertToInteractive',\n",
              "                                                    [key], {});\n",
              "        if (!dataTable) return;\n",
              "\n",
              "        const docLinkHtml = 'Like what you see? Visit the ' +\n",
              "          '<a target=\"_blank\" href=https://colab.research.google.com/notebooks/data_table.ipynb>data table notebook</a>'\n",
              "          + ' to learn more about interactive tables.';\n",
              "        element.innerHTML = '';\n",
              "        dataTable['output_type'] = 'display_data';\n",
              "        await google.colab.output.renderOutput(dataTable, element);\n",
              "        const docLink = document.createElement('div');\n",
              "        docLink.innerHTML = docLinkHtml;\n",
              "        element.appendChild(docLink);\n",
              "      }\n",
              "    </script>\n",
              "  </div>\n",
              "\n",
              "\n",
              "<div id=\"df-611eeb06-8bbb-4935-89ba-0e8f25ac419e\">\n",
              "  <button class=\"colab-df-quickchart\" onclick=\"quickchart('df-611eeb06-8bbb-4935-89ba-0e8f25ac419e')\"\n",
              "            title=\"Suggest charts\"\n",
              "            style=\"display:none;\">\n",
              "\n",
              "<svg xmlns=\"http://www.w3.org/2000/svg\" height=\"24px\"viewBox=\"0 0 24 24\"\n",
              "     width=\"24px\">\n",
              "    <g>\n",
              "        <path d=\"M19 3H5c-1.1 0-2 .9-2 2v14c0 1.1.9 2 2 2h14c1.1 0 2-.9 2-2V5c0-1.1-.9-2-2-2zM9 17H7v-7h2v7zm4 0h-2V7h2v10zm4 0h-2v-4h2v4z\"/>\n",
              "    </g>\n",
              "</svg>\n",
              "  </button>\n",
              "\n",
              "<style>\n",
              "  .colab-df-quickchart {\n",
              "      --bg-color: #E8F0FE;\n",
              "      --fill-color: #1967D2;\n",
              "      --hover-bg-color: #E2EBFA;\n",
              "      --hover-fill-color: #174EA6;\n",
              "      --disabled-fill-color: #AAA;\n",
              "      --disabled-bg-color: #DDD;\n",
              "  }\n",
              "\n",
              "  [theme=dark] .colab-df-quickchart {\n",
              "      --bg-color: #3B4455;\n",
              "      --fill-color: #D2E3FC;\n",
              "      --hover-bg-color: #434B5C;\n",
              "      --hover-fill-color: #FFFFFF;\n",
              "      --disabled-bg-color: #3B4455;\n",
              "      --disabled-fill-color: #666;\n",
              "  }\n",
              "\n",
              "  .colab-df-quickchart {\n",
              "    background-color: var(--bg-color);\n",
              "    border: none;\n",
              "    border-radius: 50%;\n",
              "    cursor: pointer;\n",
              "    display: none;\n",
              "    fill: var(--fill-color);\n",
              "    height: 32px;\n",
              "    padding: 0;\n",
              "    width: 32px;\n",
              "  }\n",
              "\n",
              "  .colab-df-quickchart:hover {\n",
              "    background-color: var(--hover-bg-color);\n",
              "    box-shadow: 0 1px 2px rgba(60, 64, 67, 0.3), 0 1px 3px 1px rgba(60, 64, 67, 0.15);\n",
              "    fill: var(--button-hover-fill-color);\n",
              "  }\n",
              "\n",
              "  .colab-df-quickchart-complete:disabled,\n",
              "  .colab-df-quickchart-complete:disabled:hover {\n",
              "    background-color: var(--disabled-bg-color);\n",
              "    fill: var(--disabled-fill-color);\n",
              "    box-shadow: none;\n",
              "  }\n",
              "\n",
              "  .colab-df-spinner {\n",
              "    border: 2px solid var(--fill-color);\n",
              "    border-color: transparent;\n",
              "    border-bottom-color: var(--fill-color);\n",
              "    animation:\n",
              "      spin 1s steps(1) infinite;\n",
              "  }\n",
              "\n",
              "  @keyframes spin {\n",
              "    0% {\n",
              "      border-color: transparent;\n",
              "      border-bottom-color: var(--fill-color);\n",
              "      border-left-color: var(--fill-color);\n",
              "    }\n",
              "    20% {\n",
              "      border-color: transparent;\n",
              "      border-left-color: var(--fill-color);\n",
              "      border-top-color: var(--fill-color);\n",
              "    }\n",
              "    30% {\n",
              "      border-color: transparent;\n",
              "      border-left-color: var(--fill-color);\n",
              "      border-top-color: var(--fill-color);\n",
              "      border-right-color: var(--fill-color);\n",
              "    }\n",
              "    40% {\n",
              "      border-color: transparent;\n",
              "      border-right-color: var(--fill-color);\n",
              "      border-top-color: var(--fill-color);\n",
              "    }\n",
              "    60% {\n",
              "      border-color: transparent;\n",
              "      border-right-color: var(--fill-color);\n",
              "    }\n",
              "    80% {\n",
              "      border-color: transparent;\n",
              "      border-right-color: var(--fill-color);\n",
              "      border-bottom-color: var(--fill-color);\n",
              "    }\n",
              "    90% {\n",
              "      border-color: transparent;\n",
              "      border-bottom-color: var(--fill-color);\n",
              "    }\n",
              "  }\n",
              "</style>\n",
              "\n",
              "  <script>\n",
              "    async function quickchart(key) {\n",
              "      const quickchartButtonEl =\n",
              "        document.querySelector('#' + key + ' button');\n",
              "      quickchartButtonEl.disabled = true;  // To prevent multiple clicks.\n",
              "      quickchartButtonEl.classList.add('colab-df-spinner');\n",
              "      try {\n",
              "        const charts = await google.colab.kernel.invokeFunction(\n",
              "            'suggestCharts', [key], {});\n",
              "      } catch (error) {\n",
              "        console.error('Error during call to suggestCharts:', error);\n",
              "      }\n",
              "      quickchartButtonEl.classList.remove('colab-df-spinner');\n",
              "      quickchartButtonEl.classList.add('colab-df-quickchart-complete');\n",
              "    }\n",
              "    (() => {\n",
              "      let quickchartButtonEl =\n",
              "        document.querySelector('#df-611eeb06-8bbb-4935-89ba-0e8f25ac419e button');\n",
              "      quickchartButtonEl.style.display =\n",
              "        google.colab.kernel.accessAllowed ? 'block' : 'none';\n",
              "    })();\n",
              "  </script>\n",
              "</div>\n",
              "\n",
              "  <div id=\"id_54a9740e-bc41-4fc8-9629-8fb6251bf093\">\n",
              "    <style>\n",
              "      .colab-df-generate {\n",
              "        background-color: #E8F0FE;\n",
              "        border: none;\n",
              "        border-radius: 50%;\n",
              "        cursor: pointer;\n",
              "        display: none;\n",
              "        fill: #1967D2;\n",
              "        height: 32px;\n",
              "        padding: 0 0 0 0;\n",
              "        width: 32px;\n",
              "      }\n",
              "\n",
              "      .colab-df-generate:hover {\n",
              "        background-color: #E2EBFA;\n",
              "        box-shadow: 0px 1px 2px rgba(60, 64, 67, 0.3), 0px 1px 3px 1px rgba(60, 64, 67, 0.15);\n",
              "        fill: #174EA6;\n",
              "      }\n",
              "\n",
              "      [theme=dark] .colab-df-generate {\n",
              "        background-color: #3B4455;\n",
              "        fill: #D2E3FC;\n",
              "      }\n",
              "\n",
              "      [theme=dark] .colab-df-generate:hover {\n",
              "        background-color: #434B5C;\n",
              "        box-shadow: 0px 1px 3px 1px rgba(0, 0, 0, 0.15);\n",
              "        filter: drop-shadow(0px 1px 2px rgba(0, 0, 0, 0.3));\n",
              "        fill: #FFFFFF;\n",
              "      }\n",
              "    </style>\n",
              "    <button class=\"colab-df-generate\" onclick=\"generateWithVariable('df')\"\n",
              "            title=\"Generate code using this dataframe.\"\n",
              "            style=\"display:none;\">\n",
              "\n",
              "  <svg xmlns=\"http://www.w3.org/2000/svg\" height=\"24px\"viewBox=\"0 0 24 24\"\n",
              "       width=\"24px\">\n",
              "    <path d=\"M7,19H8.4L18.45,9,17,7.55,7,17.6ZM5,21V16.75L18.45,3.32a2,2,0,0,1,2.83,0l1.4,1.43a1.91,1.91,0,0,1,.58,1.4,1.91,1.91,0,0,1-.58,1.4L9.25,21ZM18.45,9,17,7.55Zm-12,3A5.31,5.31,0,0,0,4.9,8.1,5.31,5.31,0,0,0,1,6.5,5.31,5.31,0,0,0,4.9,4.9,5.31,5.31,0,0,0,6.5,1,5.31,5.31,0,0,0,8.1,4.9,5.31,5.31,0,0,0,12,6.5,5.46,5.46,0,0,0,6.5,12Z\"/>\n",
              "  </svg>\n",
              "    </button>\n",
              "    <script>\n",
              "      (() => {\n",
              "      const buttonEl =\n",
              "        document.querySelector('#id_54a9740e-bc41-4fc8-9629-8fb6251bf093 button.colab-df-generate');\n",
              "      buttonEl.style.display =\n",
              "        google.colab.kernel.accessAllowed ? 'block' : 'none';\n",
              "\n",
              "      buttonEl.onclick = () => {\n",
              "        google.colab.notebook.generateWithVariable('df');\n",
              "      }\n",
              "      })();\n",
              "    </script>\n",
              "  </div>\n",
              "\n",
              "    </div>\n",
              "  </div>\n"
            ],
            "application/vnd.google.colaboratory.intrinsic+json": {
              "type": "dataframe",
              "variable_name": "df",
              "summary": "{\n  \"name\": \"df\",\n  \"rows\": 2914,\n  \"fields\": [\n    {\n      \"column\": \"Date\",\n      \"properties\": {\n        \"dtype\": \"object\",\n        \"num_unique_values\": 2914,\n        \"samples\": [\n          \"2018-10-29\",\n          \"2019-10-20\",\n          \"2021-02-28\"\n        ],\n        \"semantic_type\": \"\",\n        \"description\": \"\"\n      }\n    },\n    {\n      \"column\": \"Open\",\n      \"properties\": {\n        \"dtype\": \"number\",\n        \"std\": 16462.437335141916,\n        \"min\": 176.89700317382812,\n        \"max\": 67549.734375,\n        \"num_unique_values\": 2910,\n        \"samples\": [\n          1011.4600219726562,\n          10903.400390625,\n          995.6320190429688\n        ],\n        \"semantic_type\": \"\",\n        \"description\": \"\"\n      }\n    },\n    {\n      \"column\": \"High\",\n      \"properties\": {\n        \"dtype\": \"number\",\n        \"std\": 16886.311547248544,\n        \"min\": 211.7310028076172,\n        \"max\": 68789.625,\n        \"num_unique_values\": 2911,\n        \"samples\": [\n          286.3420104980469,\n          657.594970703125,\n          24121.642578125\n        ],\n        \"semantic_type\": \"\",\n        \"description\": \"\"\n      }\n    },\n    {\n      \"column\": \"Low\",\n      \"properties\": {\n        \"dtype\": \"number\",\n        \"std\": 15971.763313420206,\n        \"min\": 171.50999450683594,\n        \"max\": 66382.0625,\n        \"num_unique_values\": 2913,\n        \"samples\": [\n          280.9760131835937,\n          648.447021484375,\n          23275.703125\n        ],\n        \"semantic_type\": \"\",\n        \"description\": \"\"\n      }\n    },\n    {\n      \"column\": \"Close\",\n      \"properties\": {\n        \"dtype\": \"number\",\n        \"std\": 16457.69944027385,\n        \"min\": 178.10299682617188,\n        \"max\": 67566.828125,\n        \"num_unique_values\": 2911,\n        \"samples\": [\n          281.885009765625,\n          654.3519897460938,\n          23336.896484375\n        ],\n        \"semantic_type\": \"\",\n        \"description\": \"\"\n      }\n    },\n    {\n      \"column\": \"Volume\",\n      \"properties\": {\n        \"dtype\": \"number\",\n        \"std\": 19841500603,\n        \"min\": 5914570,\n        \"max\": 350967941479,\n        \"num_unique_values\": 2914,\n        \"samples\": [\n          4199910000,\n          15504249442,\n          53443887451\n        ],\n        \"semantic_type\": \"\",\n        \"description\": \"\"\n      }\n    },\n    {\n      \"column\": \"Dividends\",\n      \"properties\": {\n        \"dtype\": \"number\",\n        \"std\": 0,\n        \"min\": 0,\n        \"max\": 0,\n        \"num_unique_values\": 1,\n        \"samples\": [\n          0\n        ],\n        \"semantic_type\": \"\",\n        \"description\": \"\"\n      }\n    },\n    {\n      \"column\": \"Stock Splits\",\n      \"properties\": {\n        \"dtype\": \"number\",\n        \"std\": 0,\n        \"min\": 0,\n        \"max\": 0,\n        \"num_unique_values\": 1,\n        \"samples\": [\n          0\n        ],\n        \"semantic_type\": \"\",\n        \"description\": \"\"\n      }\n    }\n  ]\n}"
            }
          },
          "metadata": {},
          "execution_count": 4
        }
      ],
      "source": [
        "#Read Data\n",
        "df = pd.read_csv(\"btc.csv\", delimiter = ',')\n",
        "df"
      ]
    },
    {
      "cell_type": "code",
      "execution_count": 6,
      "metadata": {
        "colab": {
          "base_uri": "https://localhost:8080/",
          "height": 448
        },
        "id": "pNBJha2WpfQc",
        "outputId": "6342e296-2e2f-4ecb-8cbf-2078fb847ebe"
      },
      "outputs": [
        {
          "output_type": "execute_result",
          "data": {
            "text/plain": [
              "[<matplotlib.lines.Line2D at 0x7d0146f38bd0>]"
            ]
          },
          "metadata": {},
          "execution_count": 6
        },
        {
          "output_type": "display_data",
          "data": {
            "text/plain": [
              "<Figure size 640x480 with 1 Axes>"
            ],
            "image/png": "[encoded data removed]"
          },
          "metadata": {}
        }
      ],
      "source": [
        "#Extract Kolom yang dibutuhkan\n",
        "df1 = df[[\"Close\"]].copy()\n",
        "\n",
        "#Cek Type Data\n",
        "df1.dtypes\n",
        "\n",
        "#Visualisasi Data\n",
        "plt.plot(df1['Close'])"
      ]
    },
    {
      "cell_type": "markdown",
      "source": [
        "## Stationary testing"
      ],
      "metadata": {
        "id": "dkOS350jQWRv"
      }
    },
    {
      "cell_type": "code",
      "execution_count": 7,
      "metadata": {
        "colab": {
          "base_uri": "https://localhost:8080/"
        },
        "id": "xB_hJzpRpu6A",
        "outputId": "c7d877c0-7160-42ef-8e38-b49b854a635f"
      },
      "outputs": [
        {
          "output_type": "stream",
          "name": "stdout",
          "text": [
            "(np.float64(-1.6745475201593445), np.float64(0.44427175587336576), 28, 2885, {'1%': np.float64(-3.432618675186974), '5%': np.float64(-2.8625423474529024), '10%': np.float64(-2.5673035783905878)}, np.float64(46736.48770898788))\n",
            "Data Non-Stasioner\n"
          ]
        }
      ],
      "source": [
        "#Augmented Dickey-Fuller Test\n",
        "#H0 = Data Non-Stasioner\n",
        "#Ha = Data Stasioner\n",
        "#Jika p-value < 0.05 maka Data Stasioner\n",
        "\n",
        "result = adfuller(df1['Close'])\n",
        "print(result)\n",
        "if result[1] < 0.05:\n",
        "  print(\"Data Stasioner\")\n",
        "else:\n",
        "  print(\"Data Non-Stasioner\")"
      ]
    },
    {
      "cell_type": "code",
      "execution_count": 8,
      "metadata": {
        "colab": {
          "base_uri": "https://localhost:8080/"
        },
        "id": "74T21mobpw3t",
        "outputId": "3ea3295f-f576-4d15-b6c7-7c00df81cb43"
      },
      "outputs": [
        {
          "output_type": "stream",
          "name": "stdout",
          "text": [
            "(np.float64(0.9025570947851198), np.float64(0.01), 31, {'10%': 0.119, '5%': 0.146, '2.5%': 0.176, '1%': 0.216})\n",
            "Data Non-Stasioner\n"
          ]
        },
        {
          "output_type": "stream",
          "name": "stderr",
          "text": [
            "<ipython-input-8-5a3b9d1b0b21>:8: InterpolationWarning: The test statistic is outside of the range of p-values available in the\n",
            "look-up table. The actual p-value is smaller than the p-value returned.\n",
            "\n",
            "  hasil_kpss = sm.tsa.stattools.kpss(df1, regression='ct')\n"
          ]
        }
      ],
      "source": [
        "#KPSS Test\n",
        "#H0 = Data Stasioner\n",
        "#Ha = Data Non-Stasioner\n",
        "#Jika p-value < 0.05 maka Data Non-Stasioner\n",
        "\n",
        "hasil_kpss = sm.tsa.stattools.kpss(df1, regression='ct')\n",
        "print(hasil_kpss)\n",
        "if hasil_kpss[1] < 0.05:\n",
        "  print(\"Data Non-Stasioner\")\n",
        "else:\n",
        "  print(\"Data Stasioner\")"
      ]
    },
    {
      "cell_type": "markdown",
      "source": [
        "## Data Differencing"
      ],
      "metadata": {
        "id": "_PpNc6IeRv04"
      }
    },
    {
      "cell_type": "code",
      "execution_count": 9,
      "metadata": {
        "colab": {
          "base_uri": "https://localhost:8080/",
          "height": 697
        },
        "id": "N3Sx6VAqqT0_",
        "outputId": "a02581e9-8bc4-4385-c15a-4bb1d2b2480f"
      },
      "outputs": [
        {
          "output_type": "execute_result",
          "data": {
            "text/plain": [
              "[<matplotlib.lines.Line2D at 0x7d014562ba90>]"
            ]
          },
          "metadata": {},
          "execution_count": 9
        },
        {
          "output_type": "display_data",
          "data": {
            "text/plain": [
              "<Figure size 1700x800 with 1 Axes>"
            ],
            "image/png": "[encoded data removed]"
          },
          "metadata": {}
        }
      ],
      "source": [
        "#Differencing Data 1 Kali\n",
        "df1_diff = df['Close'].diff().dropna()\n",
        "\n",
        "#Visualisasi Data\n",
        "fig, ax = plt.subplots(figsize=(17,8),dpi=100)\n",
        "ax.plot(df1_diff)"
      ]
    },
    {
      "cell_type": "code",
      "source": [
        "#Augmented Dickey-Fuller Test\n",
        "result = adfuller(df1_diff)\n",
        "print(\"ADF Test\")\n",
        "if result[1] < 0.05:\n",
        "  print(\"Data Stasioner\")\n",
        "else:\n",
        "  print(\"Data Non-Stasioner\")\n",
        "\n",
        "#KPSS Test\n",
        "\n",
        "hasil_kpss = sm.tsa.stattools.kpss(df1_diff, regression='ct')\n",
        "print(\"KPSS Test\")\n",
        "if hasil_kpss[1] < 0.05:\n",
        "  print(\"Data Non-Stasioner\")\n",
        "else:\n",
        "  print(\"Data Stasioner\")"
      ],
      "metadata": {
        "colab": {
          "base_uri": "https://localhost:8080/"
        },
        "id": "AxOnk-SjEZec",
        "outputId": "9f44b96b-d5d5-4e97-d9cc-f9f4c53ddb1f"
      },
      "execution_count": 10,
      "outputs": [
        {
          "output_type": "stream",
          "name": "stdout",
          "text": [
            "ADF Test\n",
            "Data Stasioner\n",
            "KPSS Test\n",
            "Data Stasioner\n"
          ]
        },
        {
          "output_type": "stream",
          "name": "stderr",
          "text": [
            "<ipython-input-10-e349aa439b5c>:13: InterpolationWarning: The test statistic is outside of the range of p-values available in the\n",
            "look-up table. The actual p-value is greater than the p-value returned.\n",
            "\n",
            "  hasil_kpss = sm.tsa.stattools.kpss(df1_diff, regression='ct')\n"
          ]
        }
      ]
    },
    {
      "cell_type": "code",
      "source": [
        "#Differencing Data ke-2 (Optional)\n",
        "df2_diff = df1_diff.diff().dropna()\n",
        "\n",
        "#Visualisasi Data\n",
        "fig, ax = plt.subplots(figsize=(17,8),dpi=100)\n",
        "ax.plot(df2_diff)"
      ],
      "metadata": {
        "id": "iekjCjPBaeig"
      },
      "execution_count": null,
      "outputs": []
    },
    {
      "cell_type": "code",
      "execution_count": null,
      "metadata": {
        "colab": {
          "base_uri": "https://localhost:8080/",
          "height": 517
        },
        "id": "mboHjZpIp7Io",
        "outputId": "1632948f-aef0-4ba1-841e-d78051e3ee96"
      },
      "outputs": [
        {
          "output_type": "stream",
          "name": "stderr",
          "text": [
            "/usr/local/lib/python3.11/dist-packages/pandas/core/arraylike.py:399: RuntimeWarning: divide by zero encountered in log\n",
            "  result = getattr(ufunc, method)(*inputs, **kwargs)\n",
            "/usr/local/lib/python3.11/dist-packages/pandas/core/arraylike.py:399: RuntimeWarning: invalid value encountered in log\n",
            "  result = getattr(ufunc, method)(*inputs, **kwargs)\n"
          ]
        },
        {
          "output_type": "execute_result",
          "data": {
            "text/plain": [
              "[<matplotlib.lines.Line2D at 0x7ad3cd442a90>]"
            ]
          },
          "metadata": {},
          "execution_count": 17
        },
        {
          "output_type": "display_data",
          "data": {
            "text/plain": [
              "<Figure size 640x480 with 1 Axes>"
            ],
            "image/png": "[encoded data removed]"
          },
          "metadata": {}
        }
      ],
      "source": [
        "#Transformasi Data (Optional)\n",
        "log_df1 = np.log(df1_diff).dropna()\n",
        "\n",
        "#Visualisasi Data\n",
        "plt.plot(log_df1)"
      ]
    },
    {
      "cell_type": "markdown",
      "source": [
        "## Plotting of ACF and PACF"
      ],
      "metadata": {
        "id": "1qWGF5XOfggN"
      }
    },
    {
      "cell_type": "code",
      "execution_count": 11,
      "metadata": {
        "colab": {
          "base_uri": "https://localhost:8080/",
          "height": 904
        },
        "id": "ilx9VP_iqkUL",
        "outputId": "4273cbd5-a43b-4cda-be1f-029fc19df608"
      },
      "outputs": [
        {
          "output_type": "execute_result",
          "data": {
            "text/plain": [
              "(-0.25, 0.25)"
            ]
          },
          "metadata": {},
          "execution_count": 11
        },
        {
          "output_type": "display_data",
          "data": {
            "text/plain": [
              "<Figure size 640x480 with 1 Axes>"
            ],
            "image/png": "[encoded data removed]"
          },
          "metadata": {}
        },
        {
          "output_type": "display_data",
          "data": {
            "text/plain": [
              "<Figure size 640x480 with 1 Axes>"
            ],
            "image/png": "[encoded data removed]"
          },
          "metadata": {}
        }
      ],
      "source": [
        "#Plot ACF\n",
        "plot_acf(df1_diff)\n",
        "plt.xlim([-1,20])\n",
        "plt.ylim([-0.25,0.25])\n",
        "\n",
        "#Plot PACF\n",
        "plot_pacf(df1_diff)\n",
        "plt.xlim([-1,20])\n",
        "plt.ylim([-0.25,0.25])"
      ]
    },
    {
      "cell_type": "markdown",
      "source": [
        "## Diagnostic checking of the model"
      ],
      "metadata": {
        "id": "iAoOrkExmSDC"
      }
    },
    {
      "cell_type": "code",
      "source": [
        "# Example: Simulated ARIMA or load your own time series\n",
        "np.random.seed(42)\n",
        "data = sm.tsa.arma_generate_sample(ar=[1, -0.5], ma=[1], nsample=100)\n",
        "\n",
        "# Fit ARIMA(p,d,q)\n",
        "model = ARIMA(data, order=(6, 1, 6))\n",
        "model_fit = model.fit()\n",
        "print(model_fit.summary())"
      ],
      "metadata": {
        "colab": {
          "base_uri": "https://localhost:8080/"
        },
        "id": "del03OQVitKo",
        "outputId": "14f9d9ca-342d-4ae6-a8c7-d77b97bbb514"
      },
      "execution_count": 12,
      "outputs": [
        {
          "output_type": "stream",
          "name": "stderr",
          "text": [
            "/usr/local/lib/python3.11/dist-packages/statsmodels/tsa/statespace/sarimax.py:978: UserWarning: Non-invertible starting MA parameters found. Using zeros as starting parameters.\n",
            "  warn('Non-invertible starting MA parameters found.'\n"
          ]
        },
        {
          "output_type": "stream",
          "name": "stdout",
          "text": [
            "                               SARIMAX Results                                \n",
            "==============================================================================\n",
            "Dep. Variable:                      y   No. Observations:                  100\n",
            "Model:                 ARIMA(6, 1, 6)   Log Likelihood                -127.752\n",
            "Date:                Thu, 24 Apr 2025   AIC                            281.503\n",
            "Time:                        10:04:36   BIC                            315.240\n",
            "Sample:                             0   HQIC                           295.153\n",
            "                                - 100                                         \n",
            "Covariance Type:                  opg                                         \n",
            "==============================================================================\n",
            "                 coef    std err          z      P>|z|      [0.025      0.975]\n",
            "------------------------------------------------------------------------------\n",
            "ar.L1         -0.5229      0.303     -1.729      0.084      -1.116       0.070\n",
            "ar.L2         -0.1441      0.295     -0.489      0.625      -0.721       0.433\n",
            "ar.L3         -0.1234      0.294     -0.420      0.675      -0.700       0.453\n",
            "ar.L4         -0.5422      0.318     -1.707      0.088      -1.165       0.080\n",
            "ar.L5         -0.2012      0.232     -0.866      0.387      -0.657       0.254\n",
            "ar.L6          0.4314      0.182      2.377      0.017       0.076       0.787\n",
            "ma.L1          0.0705      0.453      0.156      0.876      -0.817       0.958\n",
            "ma.L2         -0.4053      0.363     -1.116      0.264      -1.117       0.306\n",
            "ma.L3         -0.2081      0.659     -0.316      0.752      -1.499       1.083\n",
            "ma.L4          0.3319      0.472      0.703      0.482      -0.593       1.257\n",
            "ma.L5          0.0257      0.375      0.068      0.945      -0.710       0.761\n",
            "ma.L6         -0.7746      0.651     -1.190      0.234      -2.050       0.501\n",
            "sigma2         0.7323      0.422      1.735      0.083      -0.095       1.560\n",
            "===================================================================================\n",
            "Ljung-Box (L1) (Q):                   0.00   Jarque-Bera (JB):                 0.17\n",
            "Prob(Q):                              0.94   Prob(JB):                         0.92\n",
            "Heteroskedasticity (H):               1.04   Skew:                            -0.06\n",
            "Prob(H) (two-sided):                  0.92   Kurtosis:                         2.85\n",
            "===================================================================================\n",
            "\n",
            "Warnings:\n",
            "[1] Covariance matrix calculated using the outer product of gradients (complex-step).\n"
          ]
        },
        {
          "output_type": "stream",
          "name": "stderr",
          "text": [
            "/usr/local/lib/python3.11/dist-packages/statsmodels/base/model.py:607: ConvergenceWarning: Maximum Likelihood optimization failed to converge. Check mle_retvals\n",
            "  warnings.warn(\"Maximum Likelihood optimization failed to \"\n"
          ]
        }
      ]
    },
    {
      "cell_type": "code",
      "source": [
        "residuals = model_fit.resid\n",
        "plot_acf(residuals, lags=20)\n",
        "plt.title(\"ACF of Residuals\")\n",
        "plt.show()\n",
        "lb_test = acorr_ljungbox(residuals, lags=[10], return_df=True)\n",
        "print(\"Ljung-Box Test:\\n\", lb_test)"
      ],
      "metadata": {
        "colab": {
          "base_uri": "https://localhost:8080/",
          "height": 504
        },
        "id": "Qa6sgF7XjSZ6",
        "outputId": "ecb72ac1-7d6f-45d7-86d1-d0394a2b2f31"
      },
      "execution_count": 13,
      "outputs": [
        {
          "output_type": "display_data",
          "data": {
            "text/plain": [
              "<Figure size 640x480 with 1 Axes>"
            ],
            "image/png": "[encoded data removed]"
          },
          "metadata": {}
        },
        {
          "output_type": "stream",
          "name": "stdout",
          "text": [
            "Ljung-Box Test:\n",
            "      lb_stat  lb_pvalue\n",
            "10  3.017601   0.981007\n"
          ]
        }
      ]
    },
    {
      "cell_type": "markdown",
      "source": [
        "## Forecasting Bitcoin prices for the next 7 days"
      ],
      "metadata": {
        "id": "2V0vCOgznbpE"
      }
    },
    {
      "cell_type": "code",
      "source": [
        "warnings.filterwarnings(\"ignore\")  # Hapus semua warning\n",
        "\n",
        "# 1. Split data\n",
        "dflog_train = df1_diff[:-7]\n",
        "dflog_test = df1_diff[-7:]\n",
        "\n",
        "# 2. Fit ARIMA(6,1,6)\n",
        "model = ARIMA(dflog_train, order=(6, 1, 6))\n",
        "model_fit = model.fit()\n",
        "\n",
        "# 3. Forecast 7 steps ahead\n",
        "forecast_diff = model_fit.forecast(steps=7)\n",
        "\n",
        "# 4. Kembalikan nilai forecast ke bentuk semula\n",
        "last_known_value = df1.iloc[len(dflog_train)]\n",
        "forecast_reconstructed = [last_known_value]\n",
        "for diff in forecast_diff:\n",
        "    forecast_reconstructed.append(forecast_reconstructed[-1] + diff)\n",
        "\n",
        "forecast_final = forecast_reconstructed[1:]\n",
        "\n",
        "# 5. Tampilkan hasil tabel sederhana\n",
        "actual_values = df1.iloc[-7:].values.flatten().tolist()\n",
        "forecast_final = np.array(forecast_final).flatten().tolist()\n",
        "\n",
        "df_output = pd.DataFrame({\n",
        "    \"Nilai Actual\": actual_values,\n",
        "    \"Nilai Forecast\": forecast_final\n",
        "})\n",
        "\n",
        "print(df_output)\n"
      ],
      "metadata": {
        "colab": {
          "base_uri": "https://localhost:8080/"
        },
        "id": "NEATczTBOV0H",
        "outputId": "1563ebe8-4c08-4bca-f6d9-4c9399080a3a"
      },
      "execution_count": 14,
      "outputs": [
        {
          "output_type": "stream",
          "name": "stdout",
          "text": [
            "   Nilai Actual  Nilai Forecast\n",
            "0  19969.771484    20047.248064\n",
            "1  19832.087891    20077.594165\n",
            "2  19986.712891    20195.258426\n",
            "3  19812.371094    20203.656944\n",
            "4  18837.667969    20136.429209\n",
            "5  19290.324219    20080.447427\n",
            "6  19337.371094    20117.913671\n"
          ]
        }
      ]
    },
    {
      "cell_type": "markdown",
      "source": [
        "## RMSE"
      ],
      "metadata": {
        "id": "63L3_dV-RKKb"
      }
    },
    {
      "cell_type": "code",
      "source": [
        "# 5. Hitung RMSE\n",
        "actual_values = df1.iloc[-7:].values.flatten().tolist()  # Nilai aktual dari data testing\n",
        "forecast_final = np.array(forecast_final).flatten().tolist()  # Nilai prediksi dari ARIMA\n",
        "\n",
        "# Menghitung RMSE\n",
        "rmse = np.sqrt(mean_squared_error(actual_values, forecast_final))\n",
        "\n",
        "# Tampilkan RMSE\n",
        "print(f\"RMSE: {rmse}\")\n"
      ],
      "metadata": {
        "colab": {
          "base_uri": "https://localhost:8080/"
        },
        "id": "vFsWVrxYQtFl",
        "outputId": "dc7a126e-8fab-4d03-e719-b4520d8c0c62"
      },
      "execution_count": 15,
      "outputs": [
        {
          "output_type": "stream",
          "name": "stdout",
          "text": [
            "RMSE: 674.345605051539\n"
          ]
        }
      ]
    }
  ],
  "metadata": {
    "colab": {
      "provenance": [],
      "collapsed_sections": [
        "rOWbVuz-P4Wn",
        "mR14sTJ8QRy2",
        "dkOS350jQWRv",
        "_PpNc6IeRv04",
        "1qWGF5XOfggN",
        "iAoOrkExmSDC",
        "2V0vCOgznbpE",
        "63L3_dV-RKKb"
      ]
    },
    "kernelspec": {
      "display_name": "Python 3",
      "name": "python3"
    },
    "language_info": {
      "name": "python"
    }
  },
  "nbformat": 4,
  "nbformat_minor": 0
}